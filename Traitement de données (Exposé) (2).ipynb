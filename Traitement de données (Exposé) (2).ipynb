{
 "cells": [
  {
   "cell_type": "markdown",
   "metadata": {},
   "source": [
    "<h1> <ins> TRAITEMENT DE DONNEES </ins> </h1> "
   ]
  },
  {
   "cell_type": "markdown",
   "metadata": {},
   "source": [
    "<h2> <ins> Sommaire </ins> </h2>"
   ]
  },
  {
   "cell_type": "markdown",
   "metadata": {},
   "source": [
    "<ol> <li> Données, trading/ Finances </li> \n",
    "    <li> Géo-localisation </li> </ol>"
   ]
  },
  {
   "cell_type": "markdown",
   "metadata": {},
   "source": [
    "\n",
    "\n",
    "<ol> <h2> <ins> <li> Dans la finance et le trading ? </li>  </ins> </h2> </ol>\n",
    "\n",
    "<img src=\"https://attachments.office.net/owa/killian.queguiner@eleves.ecmorlaix.fr/service.svc/s/GetFileAttachment?id=AQMkADcyM2JlOWZjLWE0NzItNDc5OC04NGVjLWYzMGM2NWMzYjBlOABGAAADO1DCtPb5r0ussT97fIkCWgcA9rrN5a6RekeDnSCiLjps0wAAAgEMAAAA9rrN5a6RekeDnSCiLjps0wADSPL7fgAAAAESABAAn5aJUxumOE2fqT4LIEsBvg%3D%3D&X-OWA-CANARY=5HMqG82sbEi0_YU6R2j10VAKlUQVotYYBDCrM0BbNmKJ_6STZOSGICC3zN2cGpL0-a7QRkfjcSY.&token=eyJhbGciOiJSUzI1NiIsImtpZCI6IjA2MDBGOUY2NzQ2MjA3MzdFNzM0MDRFMjg3QzQ1QTgxOENCN0NFQjgiLCJ4NXQiOiJCZ0Q1OW5SaUJ6Zm5OQVRpaDhSYWdZeTN6cmciLCJ0eXAiOiJKV1QifQ.eyJ2ZXIiOiJFeGNoYW5nZS5DYWxsYmFjay5WMSIsImFwcGN0eHNlbmRlciI6Ik93YURvd25sb2FkQDNhNzk5NGQ3LTFjZTUtNDI2Zi1hNmUzLWVlZTA2MTZlMmE2YyIsImFwcGN0eCI6IntcIm1zZXhjaHByb3RcIjpcIm93YVwiLFwicHJpbWFyeXNpZFwiOlwiUy0xLTUtMjEtMjkxMTUwMzk3LTM1MTQyNzY5NDgtMjkwMjY2OTY2Ny0xMTg1Njg5XCIsXCJwdWlkXCI6XCIxMTUzOTc3MDI1MzYwNTYwNDQ2XCIsXCJvaWRcIjpcIjk3NTk4NjE5LWJkMmMtNDk3Yy1hYzU4LTBmYmJkNzdlZjY2M1wiLFwic2NvcGVcIjpcIk93YURvd25sb2FkXCJ9IiwibmJmIjoxNTUxODY0MDk3LCJleHAiOjE1NTE4NjQ2OTcsImlzcyI6IjAwMDAwMDAyLTAwMDAtMGZmMS1jZTAwLTAwMDAwMDAwMDAwMEAzYTc5OTRkNy0xY2U1LTQyNmYtYTZlMy1lZWUwNjE2ZTJhNmMiLCJhdWQiOiIwMDAwMDAwMi0wMDAwLTBmZjEtY2UwMC0wMDAwMDAwMDAwMDAvYXR0YWNobWVudHMub2ZmaWNlLm5ldEAzYTc5OTRkNy0xY2U1LTQyNmYtYTZlMy1lZWUwNjE2ZTJhNmMifQ.MIrTzm1s_XIeAHFc0Pw2SWFqGHIjQMatmxJ62USKlwdVJz762bioz_CmXzc0gN8ArtgY1zl2Me2sh_o7GaW8lVyXAMCm1biXdvQmC_GfznMOu5DPMw7dZcWSfp4_Nhvb870XFs4jdiOaI486_XQlp6PGQ9DKMv-RA1HmCdYwnYMHhgFMRSZvul90AEKjod0SDq1v_VAwQbz5WrP7DinscV441fzypwHLy0NM7N3-YADpY14Mn1pFa6OTjFR8xUPMc2Albd0k46Ul2Gjq7MQPl7SiaanGT8e_q1kJGvjHw4vg3CHCv9M_sVeC0y4c7Y9zy-zTwPFRTZGIDyQgdGkhOQ&owa=outlook.office.com&isImagePreview=True\">\n"
   ]
  },
  {
   "cell_type": "markdown",
   "metadata": {},
   "source": [
    "<h3>Comment marche le trading ?</h3> \n",
    "<p>Lorsqu'une entreprise souhaite se développer et entreprendre de nouveaux projets ou se développer, elle peut émettre des actions pour mobiliser des capitaux. Une action représente une part de la propriété d'une entreprise et est émise contre de l'argent. Les actions sont achetées et vendues : les acheteurs et les vendeurs échangent des actions existantes précédemment émises. Le prix auquel les stocks sont vendus peut évoluer indépendamment du succès de l'entreprise : les prix reflètent plutôt l'offre et la demande. Cela signifie que, chaque fois qu'un stock est considéré comme « souhaitable », en raison de son succès, de sa popularité,… son prix monte."
   ]
  },
  {
   "cell_type": "markdown",
   "metadata": {},
   "source": [
    "<h3>Pourquoi Python dans la finance ?</h3>\n",
    "<p>La technologie est devenue un atout dans la finance: les institutions financières se transforment maintenant en sociétés de technologie plutôt que de rester occupées uniquement par l'aspect financier: outre le fait que la technologie apporte l'innovation rapidement et peut aider à obtenir un avantage concurrentiel, la rapidité des transactions financières, ainsi que des volumes importants de données, fait en sorte que l'attention des institutions financières pour la technologie a augmenté au fil des ans et que la technologie est en effet devenue un acteur principal en finance d'où la neccésité de concevoir des stratégies de trading automatiques grace à python.\n"
   ]
  },
  {
   "cell_type": "markdown",
   "metadata": {},
   "source": [
    "<h3>Comment ça une stratégie automatique ?</h3>\n",
    "<p>Une stratégie automatique de trading désigne un algorithme qui propose de pouvoir prendre des décisions de trading. Le rôle du trader consiste alors à concevoir et améliorer constamment son algorithme. Ce scénario est rendu possible grâce à l’évolution rapide des moyens informatiques qui vont jusqu’à utiliser des connexions internet ultra rapide.\n",
    "\n",
    "Ces techniques étaient plutôt la spécialité de certains Hedge Funds qui correspond aux fonds spéculatifs. Ils sont un des piliers de la gestion alternative, tout comme le private equity et l'investissement immobilier. Leurs stratégies d'investissement reposent sur des prises de risques élevées et donc des espérances de gain élevées.c’est le cas de Renaissance qui est un fonds alternatif d'origine américaine créé en 1982 par James Simons. Les actifs financiers actuellement gérés s'élèvent à plus de 15 milliards de dollars. Renaissance Technologies emploie plus de 300 personnes.\n",
    "\n",
    "Mais elles sont de plus en plus répandues. Il va de soi qu’un tel système de trading automatique doit être réalisé avec le plus grand soin car les erreurs de conception ou les bugs ont un impact immédiat en terme financier. Cet automatisme extrême est impératif dans le cas de stratégie de type High Frequency Trading qui réagissent en temps réel à la moindre variation des cours. Pour des stratégies à plus long terme, les algorithmes ne sont pas toujours directement reliés aux marchés, ils génèrent des listes d’ordres qui sont effectués manuellement par un trader ou servent d’outils d’aide à la décision. Plus la fréquence des opérations est élevée, plus l’investissement nécessaire à leur mise en place est important."
   ]
  },
  {
   "cell_type": "markdown",
   "metadata": {},
   "source": [
    "<h2><ins>Tout ça grâce aux chaines de caractères et aux fichiers CSV  ?</ins></h2>\n",
    "\n",
    "<h3>Les chaines de caractères</h3>\n",
    "<p>Les chaines de caractères sont des fichiers composés de caractères tel que des chiffres, des lettres, mais aussi les espaces et les autres symboles.\n",
    "\n",
    "<h3>Les fichiers CSV</h3>\n",
    "<p> \"Comma-separated values\", c'est un format informatique ouvert représentant des données tabulaires sous forme de valeurs séparées par des virgules.\n",
    "    \n",
    "Un fichier CSV est un fichier texte, par opposition aux formats dits « binaires ». Chaque ligne du texte correspond à une ligne du tableau et les virgules correspondent aux séparations entre les colonnes. Les portions de texte séparées par une virgule correspondent ainsi aux contenus des cellules du tableau. Une ligne est une suite ordonnée de caractères terminée par un caractère de fin de ligne (line break)\n",
    "<img src=\"https://attachments.office.net/owa/killian.queguiner@eleves.ecmorlaix.fr/service.svc/s/GetFileAttachment?id=AAMkADcyM2JlOWZjLWE0NzItNDc5OC04NGVjLWYzMGM2NWMzYjBlOABGAAAAAAA7UMK09vmvS6yxP3t8iQJaBwD2us3lrpF6R4OdIKIuOmzTAAAAAAEMAAD2us3lrpF6R4OdIKIuOmzTAANI8vuAAAABEgAQAPwG330LIMVCmdtt3d0QjSg%3D&X-OWA-CANARY=uNF5hlyOg0-Sc3mhPO5yiAAk0_EWotYYltfWDAWyJq6ZpeSS_w91Pej3uDjETqlvsqoCktlcDlU.&token=eyJhbGciOiJSUzI1NiIsImtpZCI6IjA2MDBGOUY2NzQ2MjA3MzdFNzM0MDRFMjg3QzQ1QTgxOENCN0NFQjgiLCJ4NXQiOiJCZ0Q1OW5SaUJ6Zm5OQVRpaDhSYWdZeTN6cmciLCJ0eXAiOiJKV1QifQ.eyJ2ZXIiOiJFeGNoYW5nZS5DYWxsYmFjay5WMSIsImFwcGN0eHNlbmRlciI6Ik93YURvd25sb2FkQDNhNzk5NGQ3LTFjZTUtNDI2Zi1hNmUzLWVlZTA2MTZlMmE2YyIsImFwcGN0eCI6IntcIm1zZXhjaHByb3RcIjpcIm93YVwiLFwicHJpbWFyeXNpZFwiOlwiUy0xLTUtMjEtMjkxMTUwMzk3LTM1MTQyNzY5NDgtMjkwMjY2OTY2Ny0xMTg1Njg5XCIsXCJwdWlkXCI6XCIxMTUzOTc3MDI1MzYwNTYwNDQ2XCIsXCJvaWRcIjpcIjk3NTk4NjE5LWJkMmMtNDk3Yy1hYzU4LTBmYmJkNzdlZjY2M1wiLFwic2NvcGVcIjpcIk93YURvd25sb2FkXCJ9IiwibmJmIjoxNTUxODY0Njk5LCJleHAiOjE1NTE4NjUyOTksImlzcyI6IjAwMDAwMDAyLTAwMDAtMGZmMS1jZTAwLTAwMDAwMDAwMDAwMEAzYTc5OTRkNy0xY2U1LTQyNmYtYTZlMy1lZWUwNjE2ZTJhNmMiLCJhdWQiOiIwMDAwMDAwMi0wMDAwLTBmZjEtY2UwMC0wMDAwMDAwMDAwMDAvYXR0YWNobWVudHMub2ZmaWNlLm5ldEAzYTc5OTRkNy0xY2U1LTQyNmYtYTZlMy1lZWUwNjE2ZTJhNmMifQ.NV-PZC8ASozgIsFPkvBQJkko6QWlO2_VNzg5ajueXCgrEzXklb2MgL-90BtsMuFFdgny7NQlynZ9PunTy34P4yWDkR8vzclm_Fbqy_11sOfB5g_TCDGQofhE6KqXcBHq6POTq9kvkY5tTLCP3MKznEhwWT1pi8oYHCPkMhpW2jLqlj7T84ZVxydxLwBfcqlvNWAUvi1ARM0MI2IVQSC1Hl1sh_pZ-74QvtpatSFjcr8aC5QCigxxAGQ2aIa_Uv6ns_zFxnxTEkNKbKq4u9zus0adsLxM9uW5G0zNPM1DBPSOxcjEAbPgEDRJJhoaQrmQaCup7GsjqPDqgjexZIwl9g&owa=outlook.office.com&isImagePreview=True\">"
   ]
  },
  {
   "cell_type": "markdown",
   "metadata": {},
   "source": [
    "<h3>Comment les traiter ?</h3>\n",
    "<p>On fait pour cela:"
   ]
  },
  {
   "cell_type": "code",
   "execution_count": 1,
   "metadata": {},
   "outputs": [
    {
     "name": "stdout",
     "output_type": "stream",
     "text": [
      ";Valeurs;;; \n",
      ";21;\n",
      ";43;\n",
      ";65;\n",
      ";32;\n",
      ";23;\n",
      ";456;\n",
      ";322;\n",
      ";444;\n"
     ]
    }
   ],
   "source": [
    "#on importe la bibliothèque CSV#\n",
    "\n",
    "import csv\n",
    "\n",
    "#on nomme une variable H qui prend comme \"valeur\" notre fichier CSV ouvert#\n",
    "\n",
    "VALEURS = open('fichiersCSV/VALEURS.csv')\n",
    "\n",
    "#ensuite une autre qui lis H#\n",
    "\n",
    "fichierCSV = csv.reader(VALEURS)\n",
    "\n",
    "#et enfin une fonction \"for\" qui affiche ligne par ligne notre fichier CSV#\n",
    "\n",
    "for range in fichierCSV: print (range[0])\n"
   ]
  },
  {
   "cell_type": "markdown",
   "metadata": {},
   "source": [
    "<p>Ceci permet de lire simplement un fichier CSV.<br>\n",
    "<p>Maintenant on peut lire distinctement les valeurs du fichiers CSV ici on a 3 exposants qui sont \"valeurs\" donc la valeurs des actions financières, \"augmentation\" qui est le nombre de points dont l'action augmente et enfin \"diminution\" qui est le nombre de points dont une action baisse."
   ]
  },
  {
   "cell_type": "code",
   "execution_count": 2,
   "metadata": {},
   "outputs": [],
   "source": [
    "instruction1 = \"invertsir\" \n",
    "\n",
    "instruction2 = \"ne pas investir\" \n",
    "\n",
    "\n",
    "\n",
    "#on importe la bibliothèque CSV#\n",
    "\n",
    "import csv"
   ]
  },
  {
   "cell_type": "code",
   "execution_count": null,
   "metadata": {},
   "outputs": [],
   "source": [
    "#on nomme une variable H qui prend comme \"valeur\" notre fichier CSV ouvert#\n",
    "\n",
    "VALEURS = open('fichiersCSV/VALEURS.csv')\n",
    "\n",
    "AUGMENTATIONS = open('fichiersCSV/AUGMENTATIONS.csv') \n",
    "\n",
    "DIMINUTIONS = open('fichiersCSV/DIMINUTIONS.csv')\n",
    "\n",
    "\n",
    "#ensuite une autre qui lis H#\n",
    "\n",
    "fichierV = csv.reader(VALEURS)\n",
    "fichierA = csv.reader(AUGMENTATIONS)\n",
    "fichierD = csv.reader(DIMINUTIONS)\n",
    "\n",
    "#on divise les valeurs en trois listes pour l'instant vide#\n",
    "\n",
    "listeX = []\n",
    "listeY = []\n",
    "listeZ = []"
   ]
  },
  {
   "cell_type": "code",
   "execution_count": null,
   "metadata": {},
   "outputs": [],
   "source": [
    "#et enfin une fonction \"for\" qui ici divise les termes en trois groupes et les envoies aux listes vides que javais créée auparavant#\n",
    "\n",
    "for colonne in fichierV:\n",
    "    valeurs = colonne[0]\n",
    "   \n",
    "    \n",
    "    listeX.append(valeurs)\n",
    "    \n"
   ]
  },
  {
   "cell_type": "code",
   "execution_count": null,
   "metadata": {},
   "outputs": [],
   "source": [
    "for colonne in fichierA:    \n",
    "\n",
    "        \n",
    "         augmentations = colonne[0]\n",
    "    \n",
    "         listeY.append(augmentations)\n",
    "    \n",
    "    "
   ]
  },
  {
   "cell_type": "code",
   "execution_count": null,
   "metadata": {},
   "outputs": [],
   "source": [
    "for colonne in fichierD:\n",
    "    \n",
    "\n",
    "              \n",
    "         diminutions = colonne[0]\n",
    "    \n",
    "   \n",
    "         listeZ.append(diminutions)"
   ]
  },
  {
   "cell_type": "code",
   "execution_count": null,
   "metadata": {},
   "outputs": [],
   "source": [
    "#afficher les listes#\n",
    "\n",
    "print(listeX)\n",
    "\n",
    "print(listeY)\n",
    "\n",
    "print(listeZ)\n"
   ]
  },
  {
   "cell_type": "markdown",
   "metadata": {},
   "source": [
    "<p>À présent on peut lire distinctement les valeurs, les augmentation et les diminutions."
   ]
  },
  {
   "cell_type": "code",
   "execution_count": null,
   "metadata": {},
   "outputs": [],
   "source": [
    "instruction1 = \"INVESTIR\" \n",
    "\n",
    "instruction2 = \"NE PAS INVESTIR\" \n",
    "\n",
    "\n",
    "v = input(\"saissez la valeur :\")  \n",
    "\n",
    "\n",
    "a = input(\"saissez l'augmentation :\")\n",
    "\n",
    "\n",
    "d = input(\"saissez la diminution :\")\n",
    "\n",
    "\n",
    "if a>d:\n",
    "    print(instruction1) \n",
    "         \n",
    "if a<d:\n",
    "    print(instruction2)"
   ]
  },
  {
   "cell_type": "markdown",
   "metadata": {},
   "source": [
    "<p>On vient de créer une fonction d'aide à la décision mais seulement à partir de données rentrée par l'utilisateur. </p>"
   ]
  },
  {
   "cell_type": "code",
   "execution_count": 3,
   "metadata": {},
   "outputs": [
    {
     "name": "stdout",
     "output_type": "stream",
     "text": [
      "prendre positions sur v1.\n",
      "prendre positions sur v2.\n",
      "attendre les prochains rapport d'analyse.\n",
      "ne pas prendre positions sur v4.\n",
      "ne pas prendre positions sur v5.\n"
     ]
    }
   ],
   "source": [
    "#on créer des instructions qui nous servirons pour l'aide à la décision à la fin de notre cellule.\n",
    "\n",
    "instruction0 = \"attendre les prochains rapport d'analyse.\"\n",
    "\n",
    "instruction1 = \"prendre positions sur v1.\" \n",
    "\n",
    "instruction2 = \"ne pas prendre positions sur v1.\"\n",
    "\n",
    "instruction3 = \"prendre positions sur v2.\"\n",
    "\n",
    "instruction4 = \"ne pas prendre positions sur v2.\"\n",
    "\n",
    "instruction5 = \"prendre positions sur v3.\"\n",
    "\n",
    "instruction6 = \"ne pas prendre positions sur v3.\"\n",
    "\n",
    "instruction7 = \"prendre positions sur v4.\"\n",
    "\n",
    "instruction8 = \"ne pas prendre positions sur v4.\"\n",
    "\n",
    "instruction9 = \"prendre positions sur v5.\"\n",
    "\n",
    "instruction10 = \"ne pas prendre positions sur v5.\"\n",
    "\n",
    "#on créer des chaines à partir des quelles on pourras traiter les données présentes en elles.\n",
    "\n",
    "valeurs = \"9 8 7 9 5\"\n",
    "\n",
    "augmentations = \"1 2 3 4 5\"\n",
    "\n",
    "diminutions = \"5 4 3 2 1\"\n",
    "\n",
    "#on créer des variables qui prennent comme valeurs les différentes valeurs présente dans nos chaines.\n",
    "\n",
    "#il nous faut sauter un caractère car entre chaque valeurs numériques il y'a un espace considérer donc comme un caractère.\n",
    "\n",
    "#VALEURS\n",
    "\n",
    "v1 = valeurs[0]\n",
    "\n",
    "v2 = valeurs[2]\n",
    "\n",
    "v3 = valeurs[4]\n",
    "\n",
    "v4 = valeurs[6]\n",
    "\n",
    "v5 = valeurs[8]\n",
    "\n",
    "#AUGMENTATIONS\n",
    "\n",
    "a1 = augmentations[0]\n",
    "\n",
    "a2 = augmentations[2]\n",
    "\n",
    "a3 = augmentations[4]\n",
    "\n",
    "a4 = augmentations[6]\n",
    "\n",
    "a5 = augmentations[8]\n",
    "\n",
    "#DIMINUTIONS\n",
    "\n",
    "d1 = diminutions[0]\n",
    "\n",
    "d2 = diminutions[2]\n",
    "\n",
    "d3 = diminutions[4]\n",
    "\n",
    "d4 = diminutions[6]\n",
    "\n",
    "d5 = diminutions[8]\n",
    "\n",
    "\n",
    "#pour comparer nos valeurs et prendre une décision il nous faut comparer les augmentations et les diminutions de chaque valeurs, ainsi si l'augmenation est supérieur a la diminutions on peut investir et vice-versa.\n",
    "\n",
    "if a1<d1: \n",
    "    print (instruction1)\n",
    "if a1>d1:\n",
    "    print (instruction2)\n",
    "if a1==d1:\n",
    "    print (instruction0)\n",
    "if a2<d2: \n",
    "    print (instruction3)\n",
    "if a2>d2:\n",
    "    print (instruction4)\n",
    "if a2==d2:\n",
    "    print (instruction0)\n",
    "if a3<d3: \n",
    "    print (instruction5)\n",
    "if a3>d3:\n",
    "    print (instruction6)\n",
    "if a3==d3:\n",
    "    print (instruction0)\n",
    "if a4<d4: \n",
    "    print (instruction7)\n",
    "if a4>d4:\n",
    "    print (instruction8)\n",
    "if a4==d4:\n",
    "    print (instruction0)\n",
    "if a5<d5:\n",
    "    print(instruction9)\n",
    "if a5>d5:\n",
    "    print (instruction10)\n",
    "if a5==d5:\n",
    "    print (instruction0)"
   ]
  },
  {
   "cell_type": "code",
   "execution_count": 14,
   "metadata": {},
   "outputs": [
    {
     "name": "stdout",
     "output_type": "stream",
     "text": [
      "saissez la valeur de votre actif :8\n",
      "saissez l'augmentation de cet actif :9\n",
      "saissez la diminutions de l'actif :12\n",
      "La différence entre l'augmentation et la diminution est de -3 point(s),alors\n",
      "prendre positions en vente sur l'actif.\n",
      "Si vous prenez position maitenant dans l'hypothèse que cette évolution se fasse en une journée alors votre bénéfice sera de 150.0 %\n"
     ]
    }
   ],
   "source": [
    "instructions = [\"attendre les prochains rapports d'analyse.\",\"prendre positions en achat sur l'actif.\",\"prendre positions en vente sur l'actif.\"]\n",
    "\n",
    "\n",
    "actifs = input(\"saissez la valeur de votre actif :\")\n",
    "\n",
    "actifs = int(actifs)\n",
    "\n",
    "\n",
    "augmentation = input(\"saissez l'augmentation de cet actif :\")\n",
    "\n",
    "augmentation = int(augmentation)\n",
    "\n",
    "\n",
    "diminution = input(\"saissez la diminutions de l'actif :\")\n",
    "\n",
    "diminution = int(diminution)\n",
    "\n",
    "vente = actifs + diminution \n",
    "\n",
    "achat = actifs + augmentation\n",
    "\n",
    "result = augmentation - diminution\n",
    "\n",
    "pourcent_result_achat = ((achat-actifs)/(actifs))*100\n",
    "\n",
    "pourcent_result_vente = ((vente-actifs)/(actifs))*100\n",
    "\n",
    "print(\"La différence entre l'augmentation et la diminution est de\", result, \"point(s),alors\") \n",
    " \n",
    "\n",
    "if result<0:\n",
    "   \n",
    "    print(instructions[2])\n",
    "    \n",
    "    print(\"Si vous prenez position maitenant dans l'hypothèse que cette évolution se fasse en une journée alors votre bénéfice sera de\",pourcent_result_vente,\"%\") \n",
    "\n",
    "elif result==0:\n",
    "    print(instructions[0])\n",
    "    \n",
    "else:\n",
    "    print(instructions[1])\n",
    "    \n",
    "    print(\"Si vous prenez position maitenant dans l'hypothèse que cette évolution se fasse en une journée alors votre bénéfice sera de\",pourcent_result_achat,\"%\")   \n",
    "\n"
   ]
  },
  {
   "cell_type": "markdown",
   "metadata": {},
   "source": [
    " <ol> <h2> <ins> <li> Géo-Localisation </li>  </ins> </h2> </ol>"
   ]
  },
  {
   "cell_type": "markdown",
   "metadata": {},
   "source": [
    "<p> <ins> <strong> Qu'est ce que la géolocalisation ? </strong> </ins> </p>"
   ]
  },
  {
   "cell_type": "markdown",
   "metadata": {},
   "source": [
    "<p> La géolocalisation est un procédé permettant de positionner un objet, un véhicule, ou une personne sur un plan ou une carte à l'aide de ses coordonnées géographiques. Certains systèmes permettent également de connaître l'altitude </p>"
   ]
  },
  {
   "cell_type": "markdown",
   "metadata": {},
   "source": [
    "<p> <ins> <strong> Mais comment ? </strong> </ins> </p>"
   ]
  },
  {
   "cell_type": "markdown",
   "metadata": {},
   "source": [
    "<p> Les données se réalise à l'aide d'un terminal capable d'être localisé grâce à un système de positionnement par satellites et un récepteur GPS par exemple, ou par d'autres techniques ; de plus, le terminal est en mesure de publier, en temps réel ou de façon différée, ses coordonnées géographiques latitude/longitude. Les positions enregistrées peuvent petre stockées au sein du terminal et être extraites ultérieurement, ou être transmises en temps réel vers une plateforme logicielle de géolocalisation. La transmission en temps réel nécessite un terminal équipé d'un moyen de télécommunication de type GSM/GPRS, UMTS, LTE, radion ou satellite lui permettant d'envoyer les positions à des intervalles plus ou moins réguliers. Cela permet à la plateforme de visualiser la position du terminal au sein d'une carte. La plateforme est le plus souvent accessible depuis INTERNET. </p>\n",
    "    "
   ]
  },
  {
   "cell_type": "markdown",
   "metadata": {},
   "source": [
    "<p> <ins> <strong> Quels sont les différentes techniques de géolocalisation ?  </strong> </ins> </p>"
   ]
  },
  {
   "cell_type": "markdown",
   "metadata": {},
   "source": [
    "<p><ins> Le géocodeur : </ins> </p>\n",
    " <p> Cette technique consiste à calculer et d'attribuer à une adresse ou à un objet référencé dans une carte vecteur des positions X, Y avec une précision de quelques dizaines de mètres en moyenne. </p>\n",
    "<p> <strong> Voici un exemple de géocodeur avec le langage python pour  \"Place de l'Université 1, 1348 Louvain-la-Neuve\" (en Belgique) en exemple : </strong> </p>"
   ]
  },
  {
   "cell_type": "code",
   "execution_count": 10,
   "metadata": {},
   "outputs": [
    {
     "data": {
      "text/plain": [
       "{'name': \"Place de l'Université 1, 1348 Louvain-la-Neuve\",\n",
       " 'Status': {'code': 200, 'request': 'geocode'},\n",
       " 'Placemark': [{'id': 'p1',\n",
       "   'address': \"Place de l'Université, 1348 Louvain-La-Neuve, Belgique\",\n",
       "   'AddressDetails': {'Accuracy': 6,\n",
       "    'Country': {'AdministrativeArea': {'AdministrativeAreaName': 'Région Wallonne',\n",
       "      'SubAdministrativeArea': {'Locality': {'DependentLocality': {'DependentLocalityName': 'Louvain-la-Neuve',\n",
       "         'PostalCode': {'PostalCodeNumber': '1348'},\n",
       "         'Thoroughfare': {'ThoroughfareName': \"Place de l'Université\"}},\n",
       "        'LocalityName': 'Louvain-La-Neuve'},\n",
       "       'SubAdministrativeAreaName': 'Brabant Wallon'}},\n",
       "     'CountryName': 'Belgique',\n",
       "     'CountryNameCode': 'BE'}},\n",
       "   'ExtendedData': {'LatLonBox': {'north': 50.6731662,\n",
       "     'south': 50.6668709,\n",
       "     'east': 4.6184483,\n",
       "     'west': 4.6121531}},\n",
       "   'Point': {'coordinates': [4.6151754, 50.6701607, 0]}}]}"
      ]
     },
     "execution_count": 10,
     "metadata": {},
     "output_type": "execute_result"
    }
   ],
   "source": [
    "{\n",
    "\"name\": \"Place de l'Université 1, 1348 Louvain-la-Neuve\",\n",
    "\"Status\": {\n",
    "\"code\": 200, # le code 200 indique qu'il n'y a pas eu d'erreur\n",
    "\"request\": \"geocode\"\n",
    "},\n",
    "\"Placemark\": [ {\n",
    "\"id\": \"p1\",\n",
    "\"address\": \"Place de l'Université, 1348 Louvain-La-Neuve, Belgique\",\n",
    "\"AddressDetails\": {\n",
    "\"Accuracy\" : 6, \"Country\" : { \"AdministrativeArea\" : { \"AdministrativeAreaName\" : \"Région Wallonne\", \"SubAdministrativeArea\" : { \"Locality\" : { \"DependentLocality\" : { \"DependentLocalityName\" : \"Louvain-la-Neuve\", \"PostalCode\" : { \"PostalCodeNumber\" : \"1348\" }, \"Thoroughfare\" : { \"ThoroughfareName\" : \"Place de l'Université\" } }, \"LocalityName\" : \"Louvain-La-Neuve\" }, \"SubAdministrativeAreaName\" : \"Brabant Wallon\" } }, \"CountryName\" : \"Belgique\", \"CountryNameCode\" : \"BE\" } }, \"ExtendedData\": { \"LatLonBox\": { \"north\": 50.6731662, \"south\": 50.6668709, \"east\": 4.6184483, \"west\": 4.6121531 } }, \"Point\": { \"coordinates\": [ 4.6151754, 50.6701607, 0 ]\n",
    "} #le degré de confiance du géocodage:  Accuracy:6 indique que la géolocalisation est précise au niveau de la rue ou de la place et non de l'adresse proprement dite (n°1) qui aurait été 8\n",
    "} ]\n",
    "}"
   ]
  },
  {
   "cell_type": "markdown",
   "metadata": {},
   "source": [
    "<p> <ins> Par Satellite : </ins> </p>\n",
    "<img src= http://siliconwadi.fr/files/2018/01/Des-drones-pour-prolonger-la-dure-de-vie-de-satellites.jpg >"
   ]
  },
  {
   "cell_type": "markdown",
   "metadata": {},
   "source": [
    "<p> La géolocalisation par satellite consiste à calculer, grâce aux signaux émis par une constellation de satellites prévue à cet effet, la position actuelle sur la face terrestre d'un terminal équipé d'une puce compatible. Cette position est traduite en termes de latitude, longitude et parfois altitude (ex : 43° 5494 N - 1° 48472 E) et peut alors être représentée physiquement sur une carte. Le réseau satellite de positionnement le plus connu est le GPS (Global Positioning System), bien que l'alternative européenne nommée Galileo soit en cours de déploiement. Dans le cas du GPS, pour que le repérage spatial fonctionne, un immense réseau constitué de 27 satellites (dont 3 de secours) tournant autour de la Terre (environ 2 tours en 24 heures) à une altitude de 20 200 km et répartis sur 6 orbites (4 par orbite) différentes est nécessaire. Ces satellites constituent un maillage du ciel et servent de repères aux navigateurs GPS dans leur processus de calcul de position. Ce système de satellites est conçu de façon qu’il y en ait toujours au moins quatre « visibles » par les navigateurs GPS, sans quoi la position ne peut pas être déterminée.\n",
    "\n",
    "Pour qu'un terminal soit capable de se géolocaliser grâce au réseau GPS, celui-ci doit être équipé d'une puce électronique GPS.\n",
    "\n",
    "Le GPS offre une précision allant de 10 à 100 mètres pour les applications civiles. </p> "
   ]
  },
  {
   "cell_type": "markdown",
   "metadata": {},
   "source": [
    "<p> De ce fait, comment les mouvements sont étudiés à partir d'un GPS avec le langage python ? </p>"
   ]
  },
  {
   "cell_type": "code",
   "execution_count": 13,
   "metadata": {},
   "outputs": [
    {
     "name": "stderr",
     "output_type": "stream",
     "text": [
      "/opt/tljh/user/lib/python3.6/site-packages/ipykernel_launcher.py:4: DeprecationWarning: Using Nominatim with the default \"geopy/1.18.1\" `user_agent` is strongly discouraged, as it violates Nominatim's ToS https://operations.osmfoundation.org/policies/nominatim/ and may possibly cause 403 and 429 HTTP errors. Please specify a custom `user_agent` with `Nominatim(user_agent=\"my-application\")` or by overriding the default `user_agent`: `geopy.geocoders.options.default_user_agent = \"my-application\"`. In geopy 2.0 this will become an exception.\n",
      "  after removing the cwd from sys.path.\n"
     ]
    },
    {
     "name": "stdout",
     "output_type": "stream",
     "text": [
      "saissez l'adresse du lieu, la ville, le pays Kerdanger, Plestin Les Grèves, France \n",
      "Les coordonnées du point situé au  Kerdanger, Plestin Les Grèves, France  sont : \n",
      "longitude =  -3.6544414 ° latitude =  48.6324638 °\n"
     ]
    }
   ],
   "source": [
    "#POUR TROUVER UNE ADRESSE QUELCONQUE NOUS FAISONS : \n",
    "import geopy #est une librairie pour utiliser différents géocodeur\n",
    "from geopy.geocoders import Nominatim #Nominatim est une bibliothèque d'informations (ici d'adresse) qui vient de la librairie Geopy\n",
    "geocoder = Nominatim()\n",
    "adresse = input(\"saissez l'adresse du lieu, la ville, le pays \")\n",
    "toto = geocoder.geocode(adresse, True, 30)\n",
    "print(\"Les coordonnées du point situé au \",adresse,\"sont : \")\n",
    "print(\"longitude = \",toto.longitude,\"°\",\"latitude = \",toto.latitude,\"°\")"
   ]
  },
  {
   "cell_type": "markdown",
   "metadata": {},
   "source": [
    "<p> De ce fait, l'utilisateur d'un GPS n'aura plus qu'a suivre le chemin à partir de son GPS. </p> "
   ]
  },
  {
   "cell_type": "markdown",
   "metadata": {},
   "source": [
    "<p> Maintenant, utilisons une bibliothèque python nommée Folium, Folium vanous permettre de créer nos propres cartes à partir des cartes proposées par Open Street Map. </p>"
   ]
  },
  {
   "cell_type": "code",
   "execution_count": 1,
   "metadata": {},
   "outputs": [
    {
     "data": {
      "text/html": [
       "<div style=\"width:100%;\"><div style=\"position:relative;width:100%;height:0;padding-bottom:60%;\"><iframe src=\"data:text/html;charset=utf-8;base64,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\" style=\"position:absolute;width:100%;height:100%;left:0;top:0;border:none !important;\" allowfullscreen webkitallowfullscreen mozallowfullscreen></iframe></div></div>"
      ],
      "text/plain": [
       "<folium.folium.Map at 0x7f64907c2588>"
      ]
     },
     "execution_count": 1,
     "metadata": {},
     "output_type": "execute_result"
    }
   ],
   "source": [
    "\n",
    "import folium # permet d'importer la bibliothèque folium afin de pouvoir l'utiliser\n",
    "folium.Map(location=(48.575440,-3.835509), zoom_start=17) # \"folium.Map(location=[46.078025, 6.409053])\" génère cet objet carte, la carte sera centrée sur le point de latitude \"46.078025\" et de longitude \"6.409053\". Plus généralement nous avons \"folium.Map(location=[latitude, longitude])\". Il suffit donc de renseigner la bonne longitude et la bonne latitude pour que la carte soit centrée sur le point désiré.\n"
   ]
  },
  {
   "cell_type": "markdown",
   "metadata": {},
   "source": [
    "<p> La librairie Folium nous permet donc de voir sous forme de cartographie le lieu que nous désirons aller. Or celui-ci n'est pas encore assez précis et nous pouvons donc utiliser des marqueurs. </p>"
   ]
  },
  {
   "cell_type": "code",
   "execution_count": 2,
   "metadata": {},
   "outputs": [
    {
     "data": {
      "text/html": [
       "<div style=\"width:100%;\"><div style=\"position:relative;width:100%;height:0;padding-bottom:60%;\"><iframe src=\"data:text/html;charset=utf-8;base64,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\" style=\"position:absolute;width:100%;height:100%;left:0;top:0;border:none !important;\" allowfullscreen webkitallowfullscreen mozallowfullscreen></iframe></div></div>"
      ],
      "text/plain": [
       "<folium.folium.Map at 0x7f646aa84dd8>"
      ]
     },
     "execution_count": 2,
     "metadata": {},
     "output_type": "execute_result"
    }
   ],
   "source": [
    "\n",
    "import folium #folium est une librairie d'information GPS \n",
    "c = folium.Map(location=[48.575440,-3.835509], zoom_start=20) #Folium.Map nous permet donc ainsi d'y avoir les informations concernant les coordonnées en lattitue et longitude. \n",
    "folium.Marker([48.575440,-3.835509], ).add_to(c) # Folium.Marker nous permet ainsi d'y avoir un marqueur sur la carte afin de situer l'endroit où nous voulons aller. \n",
    "c.add_child(folium.ClickForMarker(popup='Waypoint'))\n",
    "c # c est la variable que nous avons imposés au début du programme \n"
   ]
  },
  {
   "cell_type": "markdown",
   "metadata": {},
   "source": [
    "<p> D'autre part, nous pouvons utiliser d'autres paramètres comme des cercles. </p>"
   ]
  },
  {
   "cell_type": "code",
   "execution_count": 3,
   "metadata": {},
   "outputs": [
    {
     "data": {
      "text/html": [
       "<div style=\"width:100%;\"><div style=\"position:relative;width:100%;height:0;padding-bottom:60%;\"><iframe src=\"data:text/html;charset=utf-8;base64,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\" style=\"position:absolute;width:100%;height:100%;left:0;top:0;border:none !important;\" allowfullscreen webkitallowfullscreen mozallowfullscreen></iframe></div></div>"
      ],
      "text/plain": [
       "<folium.folium.Map at 0x7f646aa869b0>"
      ]
     },
     "execution_count": 3,
     "metadata": {},
     "output_type": "execute_result"
    }
   ],
   "source": [
    "m = folium.Map(location=[48.575440,-3.835509], zoom_start=17) #folium.map est exactement du même type que tout à l'heure avec en plus un zoom. \n",
    "folium.Circle(radius=50, location=[48.575440,-3.835509],  popup='The Waterfront', fill=False, ).add_to(m) #Folium.Circle est un autre type de marqueur, ici, un cercle. \n",
    "m.add_child(folium.ClickForMarker(popup='Waypoint'))\n",
    "m # m est la variable que nous avons imposer au début \n",
    "\n",
    "    "
   ]
  },
  {
   "cell_type": "markdown",
   "metadata": {},
   "source": [
    "<p> La librairie nous permet donc d'utiliser plusieurs paramètres qui permet d'être plus ou moins précis selon le lieux où nous voulons aller. "
   ]
  },
  {
   "cell_type": "markdown",
   "metadata": {},
   "source": [
    "Pour avoir plus d'information sur le fonctionnement du GPS, voici deux liens : \n",
    "<a href=\"https://www.youtube.com/watch?time_continue=169&v=WoqpQbWdacQ\" target=\"_blank\"> 1er lien : CLIQUEZ ICI </a>\n",
    "\n",
    "\n",
    "\n",
    "<a href=\"https://www.youtube.com/watch?time_continue=1&v=e79tSIpLiDk\" target=\"_blank\"> 2ème lien : CLIQUEZ ICI </a>"
   ]
  }
 ],
 "metadata": {
  "kernelspec": {
   "display_name": "Python 3",
   "language": "python",
   "name": "python3"
  },
  "language_info": {
   "codemirror_mode": {
    "name": "ipython",
    "version": 3
   },
   "file_extension": ".py",
   "mimetype": "text/x-python",
   "name": "python",
   "nbconvert_exporter": "python",
   "pygments_lexer": "ipython3",
   "version": "3.6.5"
  }
 },
 "nbformat": 4,
 "nbformat_minor": 2
}
